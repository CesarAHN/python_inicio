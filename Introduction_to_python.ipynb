{
  "nbformat": 4,
  "nbformat_minor": 0,
  "metadata": {
    "colab": {
      "provenance": [],
      "authorship_tag": "ABX9TyNKczdE9Rx7cDi4P6Jv4lMm",
      "include_colab_link": true
    },
    "kernelspec": {
      "name": "python3",
      "display_name": "Python 3"
    },
    "language_info": {
      "name": "python"
    }
  },
  "cells": [
    {
      "cell_type": "markdown",
      "metadata": {
        "id": "view-in-github",
        "colab_type": "text"
      },
      "source": [
        "<a href=\"https://colab.research.google.com/github/CesarAHN/python_inicio/blob/main/Introduction_to_python.ipynb\" target=\"_parent\"><img src=\"https://colab.research.google.com/assets/colab-badge.svg\" alt=\"Open In Colab\"/></a>"
      ]
    },
    {
      "cell_type": "markdown",
      "source": [
        "# MATEMÁTICA BÁSICA."
      ],
      "metadata": {
        "id": "ddE09SEvTi-d"
      }
    },
    {
      "cell_type": "code",
      "execution_count": null,
      "metadata": {
        "colab": {
          "base_uri": "https://localhost:8080/"
        },
        "id": "bs3wL58ZTcHh",
        "outputId": "58e0260e-3f2d-4d8c-e055-63f094ef17cc"
      },
      "outputs": [
        {
          "output_type": "execute_result",
          "data": {
            "text/plain": [
              "9"
            ]
          },
          "metadata": {},
          "execution_count": 6
        }
      ],
      "source": [
        "# SUMA. \n",
        "4+5"
      ]
    },
    {
      "cell_type": "code",
      "source": [
        "# DIFERENCIA.\n",
        "3-9"
      ],
      "metadata": {
        "colab": {
          "base_uri": "https://localhost:8080/"
        },
        "id": "Bsf28tZCT2r6",
        "outputId": "0b556ec4-c75f-4ba5-950b-7a5fa988f4a7"
      },
      "execution_count": null,
      "outputs": [
        {
          "output_type": "execute_result",
          "data": {
            "text/plain": [
              "-6"
            ]
          },
          "metadata": {},
          "execution_count": 5
        }
      ]
    },
    {
      "cell_type": "code",
      "source": [
        "# MULTIPLICACIÓN.\n",
        "4*2"
      ],
      "metadata": {
        "colab": {
          "base_uri": "https://localhost:8080/"
        },
        "id": "dpujxhP-UCMB",
        "outputId": "73e41905-6c49-496f-c580-d1d944350588"
      },
      "execution_count": null,
      "outputs": [
        {
          "output_type": "execute_result",
          "data": {
            "text/plain": [
              "8"
            ]
          },
          "metadata": {},
          "execution_count": 7
        }
      ]
    },
    {
      "cell_type": "code",
      "source": [
        "# DIVISIÓN. \n",
        "8/4"
      ],
      "metadata": {
        "colab": {
          "base_uri": "https://localhost:8080/"
        },
        "id": "lWHzYympULpV",
        "outputId": "86d19ec9-16c4-4935-ee8b-441420a61b84"
      },
      "execution_count": null,
      "outputs": [
        {
          "output_type": "execute_result",
          "data": {
            "text/plain": [
              "2.0"
            ]
          },
          "metadata": {},
          "execution_count": 11
        }
      ]
    },
    {
      "cell_type": "code",
      "source": [
        "# POTENCIA\n",
        "4**3"
      ],
      "metadata": {
        "colab": {
          "base_uri": "https://localhost:8080/"
        },
        "id": "OX07fshhUJHF",
        "outputId": "b50d7f63-3b9e-4934-a644-336e0f0bce82"
      },
      "execution_count": null,
      "outputs": [
        {
          "output_type": "execute_result",
          "data": {
            "text/plain": [
              "64"
            ]
          },
          "metadata": {},
          "execution_count": 13
        }
      ]
    },
    {
      "cell_type": "code",
      "source": [
        "# MÓDULO O RESIDUO DE UNA DIVISIÓN.\n",
        "13%10"
      ],
      "metadata": {
        "colab": {
          "base_uri": "https://localhost:8080/"
        },
        "id": "pbpvXDBvUYDh",
        "outputId": "172fbd14-e42f-4556-80f2-3ba7ca42e5db"
      },
      "execution_count": null,
      "outputs": [
        {
          "output_type": "execute_result",
          "data": {
            "text/plain": [
              "3"
            ]
          },
          "metadata": {},
          "execution_count": 16
        }
      ]
    },
    {
      "cell_type": "markdown",
      "source": [
        "## Creación de variablles y tipos."
      ],
      "metadata": {
        "id": "oQuiDu5ZYaaU"
      }
    },
    {
      "cell_type": "markdown",
      "source": [
        "### Creación de variables."
      ],
      "metadata": {
        "id": "RmWJXYjPZXpl"
      }
    },
    {
      "cell_type": "code",
      "source": [
        "# Creando la variable arroz - entero.\n",
        "arroz = 50"
      ],
      "metadata": {
        "id": "mhCztY4tUmRv"
      },
      "execution_count": null,
      "outputs": []
    },
    {
      "cell_type": "code",
      "source": [
        "# Creando la variable dulce - string.\n",
        "dulce = 'Dulce vida'"
      ],
      "metadata": {
        "id": "VMu5Qtb2Yo9Y"
      },
      "execution_count": null,
      "outputs": []
    },
    {
      "cell_type": "code",
      "source": [
        "# Creando la variable cancion - booleano\n",
        "cancion = True\n",
        "baile = False"
      ],
      "metadata": {
        "id": "zz85wqY2ZCyX"
      },
      "execution_count": null,
      "outputs": []
    },
    {
      "cell_type": "markdown",
      "source": [
        "### Conociendo el tipo de variable"
      ],
      "metadata": {
        "id": "xGdH1cwbZQDk"
      }
    },
    {
      "cell_type": "code",
      "source": [
        "type(arroz)"
      ],
      "metadata": {
        "colab": {
          "base_uri": "https://localhost:8080/"
        },
        "id": "OxQA_s2PZNLB",
        "outputId": "5d5277d5-075f-46f5-a7f0-c16b25cedd9c"
      },
      "execution_count": null,
      "outputs": [
        {
          "output_type": "execute_result",
          "data": {
            "text/plain": [
              "int"
            ]
          },
          "metadata": {},
          "execution_count": 20
        }
      ]
    },
    {
      "cell_type": "code",
      "source": [
        "type(dulce)"
      ],
      "metadata": {
        "colab": {
          "base_uri": "https://localhost:8080/"
        },
        "id": "DvCPl3GSZfFf",
        "outputId": "0d57962b-ec65-4ad6-e8c3-033b68e2f2c4"
      },
      "execution_count": null,
      "outputs": [
        {
          "output_type": "execute_result",
          "data": {
            "text/plain": [
              "str"
            ]
          },
          "metadata": {},
          "execution_count": 21
        }
      ]
    },
    {
      "cell_type": "code",
      "source": [
        "type(cancion)"
      ],
      "metadata": {
        "colab": {
          "base_uri": "https://localhost:8080/"
        },
        "id": "P2gIDwE6ZhWw",
        "outputId": "9167202f-25f2-4c2d-9315-96af94424b36"
      },
      "execution_count": null,
      "outputs": [
        {
          "output_type": "execute_result",
          "data": {
            "text/plain": [
              "bool"
            ]
          },
          "metadata": {},
          "execution_count": 22
        }
      ]
    },
    {
      "cell_type": "code",
      "source": [
        "type(baile)"
      ],
      "metadata": {
        "colab": {
          "base_uri": "https://localhost:8080/"
        },
        "id": "PaRrR9NtUjnz",
        "outputId": "73fc29ae-fce4-455d-b8a8-826417157315"
      },
      "execution_count": null,
      "outputs": [
        {
          "output_type": "execute_result",
          "data": {
            "text/plain": [
              "bool"
            ]
          },
          "metadata": {},
          "execution_count": 23
        }
      ]
    },
    {
      "cell_type": "markdown",
      "source": [
        "## Convirtiendo variables a otros tipos."
      ],
      "metadata": {
        "id": "ZyRppNRjZsc8"
      }
    },
    {
      "cell_type": "code",
      "source": [
        "edad = '45'  # Es string, pero se desea que sea int.\n",
        "int(edad)"
      ],
      "metadata": {
        "colab": {
          "base_uri": "https://localhost:8080/"
        },
        "id": "VJQ0T_t9ZnmN",
        "outputId": "66872e14-aeca-4b05-e125-2198831b349b"
      },
      "execution_count": null,
      "outputs": [
        {
          "output_type": "execute_result",
          "data": {
            "text/plain": [
              "45"
            ]
          },
          "metadata": {},
          "execution_count": 24
        }
      ]
    },
    {
      "cell_type": "code",
      "source": [
        "bb = 54 # es int, pero se desea que sea string.\n",
        "str(bb)"
      ],
      "metadata": {
        "colab": {
          "base_uri": "https://localhost:8080/",
          "height": 36
        },
        "id": "p8yXrDZIZ-bG",
        "outputId": "e58182f7-955e-4279-895f-1650420aae1e"
      },
      "execution_count": null,
      "outputs": [
        {
          "output_type": "execute_result",
          "data": {
            "text/plain": [
              "'54'"
            ],
            "application/vnd.google.colaboratory.intrinsic+json": {
              "type": "string"
            }
          },
          "metadata": {},
          "execution_count": 25
        }
      ]
    },
    {
      "cell_type": "code",
      "source": [
        "aa = 65    # Es int, pero se desea que sea float.\n",
        "float(aa)"
      ],
      "metadata": {
        "colab": {
          "base_uri": "https://localhost:8080/"
        },
        "id": "ia1UzR-iaXu1",
        "outputId": "c55942bb-e26e-42e8-abe9-272550b42b6d"
      },
      "execution_count": null,
      "outputs": [
        {
          "output_type": "execute_result",
          "data": {
            "text/plain": [
              "65.0"
            ]
          },
          "metadata": {},
          "execution_count": 26
        }
      ]
    },
    {
      "cell_type": "markdown",
      "source": [
        "## Operaciones entre distintos tipos de variables."
      ],
      "metadata": {
        "id": "Q-0yJEsRbAJ1"
      }
    },
    {
      "cell_type": "code",
      "source": [
        "var1 = 'Hola'\n",
        "var1*4"
      ],
      "metadata": {
        "colab": {
          "base_uri": "https://localhost:8080/",
          "height": 36
        },
        "id": "B_to8Kt3aiIx",
        "outputId": "9da72885-e8cb-414f-cfaa-3c8965636eaa"
      },
      "execution_count": null,
      "outputs": [
        {
          "output_type": "execute_result",
          "data": {
            "text/plain": [
              "'HolaHolaHolaHola'"
            ],
            "application/vnd.google.colaboratory.intrinsic+json": {
              "type": "string"
            }
          },
          "metadata": {},
          "execution_count": 31
        }
      ]
    },
    {
      "cell_type": "code",
      "source": [
        "var1 + var1"
      ],
      "metadata": {
        "colab": {
          "base_uri": "https://localhost:8080/",
          "height": 36
        },
        "id": "p95QhgpnbHEk",
        "outputId": "9b8fff21-2d39-407a-e91c-26cd1c846260"
      },
      "execution_count": null,
      "outputs": [
        {
          "output_type": "execute_result",
          "data": {
            "text/plain": [
              "'HolaHola'"
            ],
            "application/vnd.google.colaboratory.intrinsic+json": {
              "type": "string"
            }
          },
          "metadata": {},
          "execution_count": 32
        }
      ]
    },
    {
      "cell_type": "code",
      "source": [
        "# Recuerda que solo se puede concatenar strings, no strings y números.\n",
        "# Por lo cual no se puede hacer.\n",
        "# var1 + 5"
      ],
      "metadata": {
        "id": "utGz7J5qbs07"
      },
      "execution_count": null,
      "outputs": []
    },
    {
      "cell_type": "markdown",
      "source": [
        "## LISTAS"
      ],
      "metadata": {
        "id": "uEjjKSIBeizR"
      }
    },
    {
      "cell_type": "code",
      "source": [
        "# Creación de listas. \n",
        "abc = [\"a\",\"b\",\"c\",\"d\",\"e\"] # Lista de letras."
      ],
      "metadata": {
        "id": "qG0-79nLbKvN"
      },
      "execution_count": null,
      "outputs": []
    },
    {
      "cell_type": "code",
      "source": [
        "abc1 = [\"a\",1,\"b\",2,\"c\",3] # Lista de números y letras. "
      ],
      "metadata": {
        "id": "diOiLBiKfUi8"
      },
      "execution_count": null,
      "outputs": []
    },
    {
      "cell_type": "markdown",
      "source": [
        "### Sub listas."
      ],
      "metadata": {
        "id": "wdCSqOkDfkCB"
      }
    },
    {
      "cell_type": "code",
      "source": [
        "nom_edad = [[\"Ana\",12],\n",
        "            [\"Luis\",34],\n",
        "            [\"Rosa\",55],\n",
        "            [\"marcos\",33]]"
      ],
      "metadata": {
        "id": "3NKEsNRQfhaT"
      },
      "execution_count": null,
      "outputs": []
    },
    {
      "cell_type": "code",
      "source": [],
      "metadata": {
        "id": "fH9WlTvzf-UE"
      },
      "execution_count": null,
      "outputs": []
    }
  ]
}